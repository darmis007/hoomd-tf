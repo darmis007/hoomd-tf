{
 "cells": [
  {
   "cell_type": "code",
   "execution_count": 1,
   "metadata": {},
   "outputs": [],
   "source": [
    "import hoomd.htf as htf\n",
    "import numpy as np\n",
    "import tensorflow as tf\n",
    "import hoomd\n",
    "from hoomd import *\n",
    "import os"
   ]
  },
  {
   "cell_type": "code",
   "execution_count": 2,
   "metadata": {},
   "outputs": [
    {
     "name": "stdout",
     "output_type": "stream",
     "text": [
      "WARNING:tensorflow:From /home/mgholiza/.conda/envs/hoomd-tf/lib/python3.7/site-packages/hoomd/htf/graphbuilder.py:25: The name tf.reset_default_graph is deprecated. Please use tf.compat.v1.reset_default_graph instead.\n",
      "\n",
      "WARNING:tensorflow:From /home/mgholiza/.conda/envs/hoomd-tf/lib/python3.7/site-packages/hoomd/htf/graphbuilder.py:28: The name tf.placeholder is deprecated. Please use tf.compat.v1.placeholder instead.\n",
      "\n",
      "WARNING:tensorflow:From /home/mgholiza/.conda/envs/hoomd-tf/lib/python3.7/site-packages/hoomd/htf/graphbuilder.py:49: The name tf.get_variable is deprecated. Please use tf.compat.v1.get_variable instead.\n",
      "\n",
      "Note: Backed-up skewed_box_size previous model to skewed_box_size/previous_model_21\n",
      "WARNING:tensorflow:From /home/mgholiza/.conda/envs/hoomd-tf/lib/python3.7/site-packages/hoomd/htf/graphbuilder.py:579: The name tf.train.export_meta_graph is deprecated. Please use tf.compat.v1.train.export_meta_graph instead.\n",
      "\n"
     ]
    }
   ],
   "source": [
    "graph = htf.graph_builder(0, output_forces=False)\n",
    "# c = hoomd.context.initialize('--mode=gpu')\n",
    "# system = hoomd.init.create_lattice(unitcell=hoomd.lattice.sq(a=1.0),\n",
    "#                                     n=[3,3])\n",
    "box = tf.Variable(tf.zeros_like(graph.box), validate_shape=False, name='box_size', trainable=False)\n",
    "save_box_size = box.assign(graph.box)\n",
    "graph.save_tensor(tf.identity(save_box_size),'BOX')\n",
    "graph.save('skewed_box_size')\n",
    "\n"
   ]
  },
  {
   "cell_type": "code",
   "execution_count": 3,
   "metadata": {},
   "outputs": [
    {
     "name": "stdout",
     "output_type": "stream",
     "text": [
      "notice(2): Started TF Session Manager.\n",
      "HOOMD-blue v2.5.2 CUDA (10.0) DOUBLE HPMC_MIXED SSE SSE2 \n",
      "Compiled: 04/23/2020\n",
      "Copyright (c) 2009-2019 The Regents of the University of Michigan.\n",
      "-----\n",
      "You are using HOOMD-blue. Please cite the following:\n",
      "* J A Anderson, C D Lorenz, and A Travesset. \"General purpose molecular dynamics\n",
      "  simulations fully implemented on graphics processing units\", Journal of\n",
      "  Computational Physics 227 (2008) 5342--5359\n",
      "* J Glaser, T D Nguyen, J A Anderson, P Liu, F Spiga, J A Millan, D C Morse, and\n",
      "  S C Glotzer. \"Strong scaling of general-purpose molecular dynamics simulations\n",
      "  on GPUs\", Computer Physics Communications 192 (2015) 97--107\n",
      "-----\n",
      "HOOMD-blue is running on the CPU\n",
      "notice(2): Group \"all\" created containing 9 particles\n",
      "notice(2): Force mode is FORCE_MODE.hoomd2tf \n",
      "notice(2): Starting TensorflowCompute \n",
      "notice(2): completed reallocate\n",
      "WARNING:tensorflow:From /home/mgholiza/.conda/envs/hoomd-tf/lib/python3.7/site-packages/hoomd/htf/tfmanager.py:412: The name tf.train.import_meta_graph is deprecated. Please use tf.compat.v1.train.import_meta_graph instead.\n",
      "\n",
      "INFO:tensorflow:The following quantities will computed:\n",
      "INFO:tensorflow:\tname period batch\n",
      "WARNING:tensorflow:From /home/mgholiza/.conda/envs/hoomd-tf/lib/python3.7/site-packages/hoomd/htf/tfmanager.py:145: The name tf.get_default_graph is deprecated. Please use tf.compat.v1.get_default_graph instead.\n",
      "\n",
      "INFO:tensorflow:\t AssignAdd:0 1 None\n",
      "INFO:tensorflow:\t Assign_1:0 1 None\n",
      "WARNING:tensorflow:From /home/mgholiza/.conda/envs/hoomd-tf/lib/python3.7/site-packages/hoomd/htf/tfmanager.py:490: The name tf.GPUOptions is deprecated. Please use tf.compat.v1.GPUOptions instead.\n",
      "\n",
      "WARNING:tensorflow:From /home/mgholiza/.conda/envs/hoomd-tf/lib/python3.7/site-packages/hoomd/htf/tfmanager.py:491: The name tf.ConfigProto is deprecated. Please use tf.compat.v1.ConfigProto instead.\n",
      "\n",
      "WARNING:tensorflow:From /home/mgholiza/.conda/envs/hoomd-tf/lib/python3.7/site-packages/hoomd/htf/tfmanager.py:495: The name tf.Session is deprecated. Please use tf.compat.v1.Session instead.\n",
      "\n",
      "WARNING:tensorflow:From /home/mgholiza/.conda/envs/hoomd-tf/lib/python3.7/site-packages/hoomd/htf/tfmanager.py:497: The name tf.get_collection is deprecated. Please use tf.compat.v1.get_collection instead.\n",
      "\n",
      "WARNING:tensorflow:From /home/mgholiza/.conda/envs/hoomd-tf/lib/python3.7/site-packages/hoomd/htf/tfmanager.py:497: The name tf.GraphKeys is deprecated. Please use tf.compat.v1.GraphKeys instead.\n",
      "\n",
      "WARNING:tensorflow:From /home/mgholiza/.conda/envs/hoomd-tf/lib/python3.7/site-packages/hoomd/htf/tfmanager.py:500: The name tf.global_variables_initializer is deprecated. Please use tf.compat.v1.global_variables_initializer instead.\n",
      "\n",
      "WARNING:tensorflow:From /home/mgholiza/.conda/envs/hoomd-tf/lib/python3.7/site-packages/hoomd/htf/tfmanager.py:501: The name tf.local_variables_initializer is deprecated. Please use tf.compat.v1.local_variables_initializer instead.\n",
      "\n",
      "WARNING:tensorflow:From /home/mgholiza/.conda/envs/hoomd-tf/lib/python3.7/site-packages/hoomd/htf/tfmanager.py:503: The name tf.train.Saver is deprecated. Please use tf.compat.v1.train.Saver instead.\n",
      "\n",
      "notice(2): TF Session Manager has released control. Starting HOOMD updates\n",
      "notice(2): -- Neighborlist exclusion statistics -- :\n",
      "notice(2): Particles with 0 exclusions             : 9\n",
      "notice(2): Neighbors included by diameter          : no\n",
      "notice(2): Neighbors excluded when in the same body: no\n",
      "** starting run **\n",
      "Time 00:00:03 | Step 1000 / 1000 | TPS 590.457 | ETA 00:00:00\n",
      "Average TPS: 590.326\n",
      "---------\n",
      "-- Neighborlist stats:\n",
      "0 normal updates / 0 forced updates / 0 dangerous updates\n",
      "n_neigh_min: 0 / n_neigh_max: 0 / n_neigh_avg: 0\n",
      "shortest rebuild period: 100\n",
      "-- Cell list stats:\n",
      "Dimension: 0, 0, 0\n",
      "** run complete **\n",
      "notice(2): Sending exit signal.\n",
      "notice(2): Shutting down TF Manually.\n",
      "notice(2): TF Queue is waiting, sending None\n",
      "INFO:tensorflow:Empty Queue\n",
      "INFO:tensorflow:Received exit. Leaving TF Update Loop. \n",
      "INFO:tensorflow:TF Update runningtime is 1.631510155275464\n",
      "INFO:tensorflow:TF Feed Processingtime is 0.016071472316980362\n",
      "INFO:tensorflow:TF Total Time(excluding communication) is 1.6475816275924444\n"
     ]
    }
   ],
   "source": [
    "with htf.tfcompute('skewed_box_size') as tfcompute:\n",
    "    hoomd.context.initialize(\"--mode=cpu\")\n",
    "    # create a square lattice\n",
    "    rcut = 5\n",
    "    system = hoomd.init.create_lattice(unitcell=hoomd.lattice.sq(a=4.0),\n",
    "                                        n=[3,3])\n",
    "    nlist = hoomd.md.nlist.cell()\n",
    "    hoomd.md.integrate.mode_standard(dt=0.005)\n",
    "    hoomd.md.integrate.nve(group=hoomd.group.all())\n",
    "    tfcompute.attach(nlist, r_cut=rcut)\n",
    "    hoomd.run(1e3)"
   ]
  },
  {
   "cell_type": "code",
   "execution_count": 4,
   "metadata": {},
   "outputs": [
    {
     "name": "stdout",
     "output_type": "stream",
     "text": [
      "INFO:tensorflow:Restoring parameters from skewed_box_size/model-999\n",
      "[0. 0. 0.]\n"
     ]
    }
   ],
   "source": [
    "# Loading box dimensions\n",
    "variables  = htf.load_variables('skewed_box_size', ['BOX'])\n",
    "boxdim = variables['BOX']\n",
    "\n",
    "print(boxdim[2])"
   ]
  },
  {
   "cell_type": "code",
   "execution_count": 5,
   "metadata": {},
   "outputs": [
    {
     "name": "stdout",
     "output_type": "stream",
     "text": [
      "Checked: Box is not skewed in x axis.\n",
      "Checked: Box is not skewed in y axis.\n",
      "Checked: Box is not skewed in z axis.\n"
     ]
    },
    {
     "data": {
      "text/plain": [
       "<tf.Tensor 'sub_1:0' shape=(3,) dtype=float32>"
      ]
     },
     "execution_count": 5,
     "metadata": {},
     "output_type": "execute_result"
    }
   ],
   "source": [
    "graph.wrap_vector(10,boxdim)\n",
    "# tilt_value = [system.box.xy, system.box.xz, system.box.yz]"
   ]
  },
  {
   "cell_type": "code",
   "execution_count": null,
   "metadata": {},
   "outputs": [],
   "source": [
    "\n",
    "b=system.box\n",
    "print (b.xy)\n",
    "system.box.xz = 1\n",
    "#print (system.box)\n",
    "graph.wrap_vector(10)"
   ]
  },
  {
   "cell_type": "code",
   "execution_count": null,
   "metadata": {},
   "outputs": [],
   "source": []
  },
  {
   "cell_type": "markdown",
   "metadata": {},
   "source": []
  }
 ],
 "metadata": {
  "kernelspec": {
   "display_name": "Python (hoomt-tf)",
   "language": "python",
   "name": "hoomd-tf"
  },
  "language_info": {
   "codemirror_mode": {
    "name": "ipython",
    "version": 3
   },
   "file_extension": ".py",
   "mimetype": "text/x-python",
   "name": "python",
   "nbconvert_exporter": "python",
   "pygments_lexer": "ipython3",
   "version": "3.7.6"
  }
 },
 "nbformat": 4,
 "nbformat_minor": 4
}

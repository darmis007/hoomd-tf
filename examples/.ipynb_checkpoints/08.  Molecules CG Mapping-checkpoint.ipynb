{
 "cells": [
  {
   "cell_type": "markdown",
   "metadata": {},
   "source": [
    "# 08. Molecules CG Mapping \n",
    "\n",
    "In this tutorial, we show how to generate a CG mapping matrix for a molecule given a bead distribution."
   ]
  },
  {
   "cell_type": "code",
   "execution_count": 1,
   "metadata": {},
   "outputs": [],
   "source": [
    "import hoomd, hoomd.htf as htf, hoomd.md\n",
    "import numpy as np\n",
    "import MD"
   ]
  },
  {
   "cell_type": "code",
   "execution_count": 2,
   "metadata": {
    "scrolled": true
   },
   "outputs": [
    {
     "ename": "NameError",
     "evalue": "name 'mda' is not defined",
     "output_type": "error",
     "traceback": [
      "\u001b[0;31m---------------------------------------------------------------------------\u001b[0m",
      "\u001b[0;31mNameError\u001b[0m                                 Traceback (most recent call last)",
      "\u001b[0;32m<ipython-input-2-3889bb72a0aa>\u001b[0m in \u001b[0;36m<module>\u001b[0;34m\u001b[0m\n\u001b[1;32m      1\u001b[0m \u001b[0mTPR\u001b[0m \u001b[0;34m=\u001b[0m \u001b[0;34m'/scratch/awhite38_lab/ff/OPLS/pure_water/non_bonded_traj/nvt_prod_outforce.tpr'\u001b[0m\u001b[0;34m\u001b[0m\u001b[0;34m\u001b[0m\u001b[0m\n\u001b[0;32m----> 2\u001b[0;31m \u001b[0mtpr\u001b[0m \u001b[0;34m=\u001b[0m \u001b[0mmda\u001b[0m\u001b[0;34m.\u001b[0m\u001b[0mUniverse\u001b[0m\u001b[0;34m(\u001b[0m\u001b[0mTPR\u001b[0m\u001b[0;34m)\u001b[0m\u001b[0;34m\u001b[0m\u001b[0;34m\u001b[0m\u001b[0m\n\u001b[0m\u001b[1;32m      3\u001b[0m \u001b[0mTRAJECTORY\u001b[0m \u001b[0;34m=\u001b[0m \u001b[0;34m'/scratch/awhite38_lab/ff/OPLS/pure_water/non_bonded_traj/traj.trr'\u001b[0m\u001b[0;34m\u001b[0m\u001b[0;34m\u001b[0m\u001b[0m\n\u001b[1;32m      4\u001b[0m \u001b[0mu\u001b[0m \u001b[0;34m=\u001b[0m \u001b[0mmda\u001b[0m\u001b[0;34m.\u001b[0m\u001b[0mUniverse\u001b[0m\u001b[0;34m(\u001b[0m\u001b[0mTPR\u001b[0m\u001b[0;34m,\u001b[0m \u001b[0mTRAJECTORY\u001b[0m\u001b[0;34m)\u001b[0m\u001b[0;34m\u001b[0m\u001b[0;34m\u001b[0m\u001b[0m\n\u001b[1;32m      5\u001b[0m \u001b[0mprotein_FF\u001b[0m \u001b[0;34m=\u001b[0m \u001b[0mu\u001b[0m\u001b[0;34m.\u001b[0m\u001b[0mselect_atoms\u001b[0m\u001b[0;34m(\u001b[0m\u001b[0;34m\"resname PHE and resid 0:1\"\u001b[0m\u001b[0;34m)\u001b[0m\u001b[0;34m\u001b[0m\u001b[0;34m\u001b[0m\u001b[0m\n",
      "\u001b[0;31mNameError\u001b[0m: name 'mda' is not defined"
     ]
    }
   ],
   "source": [
    "TPR = '/scratch/awhite38_lab/ff/OPLS/pure_water/non_bonded_traj/nvt_prod_outforce.tpr'\n",
    "tpr = mda.Universe(TPR)\n",
    "TRAJECTORY = '/scratch/awhite38_lab/ff/OPLS/pure_water/non_bonded_traj/traj.trr'\n",
    "u = mda.Universe(TPR, TRAJECTORY)\n",
    "protein_FF = u.select_atoms(\"resname PHE and resid 0:1\")\n",
    "Beads_dict = {'Bead_1':['N','H1','H2','H3'],\n",
    "             'Bead_2':['CA','HA','CB','HB1','HB2'],\n",
    "             'Bead_3':['CG','CD1','HD1','CD2','HD2','CE1','HE1','CE2','HE2','CZ','HZ'],\n",
    "             'Bead_4':['C','O'],\n",
    "             'Bead_5':['N','H'],\n",
    "             'Bead_6':['CA','HA','CB','HB1','HB2'],\n",
    "             'Bead_7':['CG','CD1','HD1','CD2','HD2','CE1','HE1','CE2','HE2','CZ','HZ'],\n",
    "             'Bead_8':['C','O1','O2']}\n",
    "mapping = htf.matrix_mapping(protein_FF,Beads_dict)\n",
    "print (mapping)"
   ]
  },
  {
   "cell_type": "code",
   "execution_count": null,
   "metadata": {},
   "outputs": [],
   "source": []
  }
 ],
 "metadata": {
  "kernelspec": {
   "display_name": "Python (hoomd-tf)",
   "language": "python",
   "name": "hoomd-tf"
  },
  "language_info": {
   "codemirror_mode": {
    "name": "ipython",
    "version": 3
   },
   "file_extension": ".py",
   "mimetype": "text/x-python",
   "name": "python",
   "nbconvert_exporter": "python",
   "pygments_lexer": "ipython3",
   "version": "3.7.6"
  }
 },
 "nbformat": 4,
 "nbformat_minor": 2
}

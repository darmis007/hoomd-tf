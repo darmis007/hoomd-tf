{
 "cells": [
  {
   "cell_type": "code",
   "execution_count": 4,
   "metadata": {},
   "outputs": [],
   "source": [
    "import hoomd.htf as htf\n",
    "import tensorflow as tf\n",
    "import hoomd\n",
    "from hoomd import *\n",
    "import os"
   ]
  },
  {
   "cell_type": "code",
   "execution_count": null,
   "metadata": {},
   "outputs": [
    {
     "name": "stdout",
     "output_type": "stream",
     "text": [
      "WARNING: You did not provide a virial for my_model, so per particle virials will not be correct\n",
      "Note: Backed-up my_model previous model to my_model/previous_model_3\n",
      "notice(2): Started TF Session Manager.\n",
      "notice(2): Group \"all\" created containing 9 particles\n",
      "notice(2): Force mode is FORCE_MODE.tf2hoomd \n",
      "notice(2): Starting TensorflowCompute \n",
      "notice(2): completed reallocate\n",
      "notice(2): Setting flag indicating virial modification will occur\n",
      "WARNING:tensorflow:From /home/mgholiza/.conda/envs/hoomd-tf/lib/python3.7/site-packages/hoomd/htf/tfmanager.py:412: The name tf.train.import_meta_graph is deprecated. Please use tf.compat.v1.train.import_meta_graph instead.\n",
      "\n",
      "WARNING:tensorflow:From /home/mgholiza/.conda/envs/hoomd-tf/lib/python3.7/site-packages/hoomd/htf/tfmanager.py:429: The name tf.get_default_graph is deprecated. Please use tf.compat.v1.get_default_graph instead.\n",
      "\n",
      "WARNING:tensorflow:No virial computed in graph. Pressure may be inaccurate!\n",
      "INFO:tensorflow:The following quantities will computed:\n",
      "INFO:tensorflow:\tname period batch\n",
      "INFO:tensorflow:\t AssignAdd:0 1 None\n",
      "WARNING:tensorflow:From /home/mgholiza/.conda/envs/hoomd-tf/lib/python3.7/site-packages/hoomd/htf/tfmanager.py:490: The name tf.GPUOptions is deprecated. Please use tf.compat.v1.GPUOptions instead.\n",
      "\n",
      "WARNING:tensorflow:From /home/mgholiza/.conda/envs/hoomd-tf/lib/python3.7/site-packages/hoomd/htf/tfmanager.py:491: The name tf.ConfigProto is deprecated. Please use tf.compat.v1.ConfigProto instead.\n",
      "\n",
      "WARNING:tensorflow:From /home/mgholiza/.conda/envs/hoomd-tf/lib/python3.7/site-packages/hoomd/htf/tfmanager.py:495: The name tf.Session is deprecated. Please use tf.compat.v1.Session instead.\n",
      "\n",
      "WARNING:tensorflow:From /home/mgholiza/.conda/envs/hoomd-tf/lib/python3.7/site-packages/hoomd/htf/tfmanager.py:497: The name tf.get_collection is deprecated. Please use tf.compat.v1.get_collection instead.\n",
      "\n",
      "WARNING:tensorflow:From /home/mgholiza/.conda/envs/hoomd-tf/lib/python3.7/site-packages/hoomd/htf/tfmanager.py:497: The name tf.GraphKeys is deprecated. Please use tf.compat.v1.GraphKeys instead.\n",
      "\n",
      "WARNING:tensorflow:From /home/mgholiza/.conda/envs/hoomd-tf/lib/python3.7/site-packages/hoomd/htf/tfmanager.py:500: The name tf.global_variables_initializer is deprecated. Please use tf.compat.v1.global_variables_initializer instead.\n",
      "\n",
      "WARNING:tensorflow:From /home/mgholiza/.conda/envs/hoomd-tf/lib/python3.7/site-packages/hoomd/htf/tfmanager.py:501: The name tf.local_variables_initializer is deprecated. Please use tf.compat.v1.local_variables_initializer instead.\n",
      "\n",
      "WARNING:tensorflow:From /home/mgholiza/.conda/envs/hoomd-tf/lib/python3.7/site-packages/hoomd/htf/tfmanager.py:503: The name tf.train.Saver is deprecated. Please use tf.compat.v1.train.Saver instead.\n",
      "\n",
      "notice(2): TF Session Manager has released control. Starting HOOMD updates\n",
      "notice(2): -- Neighborlist exclusion statistics -- :\n",
      "notice(2): Particles with 0 exclusions             : 9\n",
      "notice(2): Neighbors included by diameter          : no\n",
      "notice(2): Neighbors excluded when in the same body: no\n",
      "** starting run **\n"
     ]
    },
    {
     "name": "stderr",
     "output_type": "stream",
     "text": [
      "Exception in thread Thread-6:\n",
      "Traceback (most recent call last):\n",
      "  File \"/home/mgholiza/.conda/envs/hoomd-tf/lib/python3.7/site-packages/tensorflow_core/python/client/session.py\", line 1365, in _do_call\n",
      "    return fn(*args)\n",
      "  File \"/home/mgholiza/.conda/envs/hoomd-tf/lib/python3.7/site-packages/tensorflow_core/python/client/session.py\", line 1350, in _run_fn\n",
      "    target_list, run_metadata)\n",
      "  File \"/home/mgholiza/.conda/envs/hoomd-tf/lib/python3.7/site-packages/tensorflow_core/python/client/session.py\", line 1443, in _call_tf_sessionrun\n",
      "    run_metadata)\n",
      "tensorflow.python.framework.errors_impl.InvalidArgumentError: 2 root error(s) found.\n",
      "  (0) Invalid argument: ConcatOp : Dimensions of inputs should match: shape[0] = [3,3] vs. shape[1] = [9,1]\n",
      "\t [[{{node add-ws/forces}}]]\n",
      "\t [[Cast_3/_13]]\n",
      "  (1) Invalid argument: ConcatOp : Dimensions of inputs should match: shape[0] = [3,3] vs. shape[1] = [9,1]\n",
      "\t [[{{node add-ws/forces}}]]\n",
      "0 successful operations.\n",
      "0 derived errors ignored.\n",
      "\n",
      "During handling of the above exception, another exception occurred:\n",
      "\n",
      "Traceback (most recent call last):\n",
      "  File \"/home/mgholiza/.conda/envs/hoomd-tf/lib/python3.7/threading.py\", line 926, in _bootstrap_inner\n",
      "    self.run()\n",
      "  File \"/home/mgholiza/.conda/envs/hoomd-tf/lib/python3.7/threading.py\", line 870, in run\n",
      "    self._target(*self._args, **self._kwargs)\n",
      "  File \"/home/mgholiza/.conda/envs/hoomd-tf/lib/python3.7/site-packages/hoomd/htf/tfmanager.py\", line 26, in main\n",
      "    tfm.start_loop()\n",
      "  File \"/home/mgholiza/.conda/envs/hoomd-tf/lib/python3.7/site-packages/hoomd/htf/tfmanager.py\", line 607, in start_loop\n",
      "    result = self._update(sess, feed_dict, bi)\n",
      "  File \"/home/mgholiza/.conda/envs/hoomd-tf/lib/python3.7/site-packages/hoomd/htf/tfmanager.py\", line 317, in _update\n",
      "    result = sess.run(run_nodes, feed_dict=feed_dict)\n",
      "  File \"/home/mgholiza/.conda/envs/hoomd-tf/lib/python3.7/site-packages/tensorflow_core/python/client/session.py\", line 956, in run\n",
      "    run_metadata_ptr)\n",
      "  File \"/home/mgholiza/.conda/envs/hoomd-tf/lib/python3.7/site-packages/tensorflow_core/python/client/session.py\", line 1180, in _run\n",
      "    feed_dict_tensor, options, run_metadata)\n",
      "  File \"/home/mgholiza/.conda/envs/hoomd-tf/lib/python3.7/site-packages/tensorflow_core/python/client/session.py\", line 1359, in _do_run\n",
      "    run_metadata)\n",
      "  File \"/home/mgholiza/.conda/envs/hoomd-tf/lib/python3.7/site-packages/tensorflow_core/python/client/session.py\", line 1384, in _do_call\n",
      "    raise type(e)(node_def, op, message)\n",
      "tensorflow.python.framework.errors_impl.InvalidArgumentError: 2 root error(s) found.\n",
      "  (0) Invalid argument: ConcatOp : Dimensions of inputs should match: shape[0] = [3,3] vs. shape[1] = [9,1]\n",
      "\t [[node add-ws/forces (defined at /site-packages/tensorflow_core/python/framework/ops.py:1748) ]]\n",
      "\t [[Cast_3/_13]]\n",
      "  (1) Invalid argument: ConcatOp : Dimensions of inputs should match: shape[0] = [3,3] vs. shape[1] = [9,1]\n",
      "\t [[node add-ws/forces (defined at /site-packages/tensorflow_core/python/framework/ops.py:1748) ]]\n",
      "0 successful operations.\n",
      "0 derived errors ignored.\n",
      "\n",
      "Original stack trace for 'add-ws/forces':\n",
      "  File \"/threading.py\", line 890, in _bootstrap\n",
      "    self._bootstrap_inner()\n",
      "  File \"/threading.py\", line 926, in _bootstrap_inner\n",
      "    self.run()\n",
      "  File \"/threading.py\", line 870, in run\n",
      "    self._target(*self._args, **self._kwargs)\n",
      "  File \"/site-packages/hoomd/htf/tfmanager.py\", line 21, in main\n",
      "    write_tensorboard=write_tensorboard, **tfm_args)\n",
      "  File \"/site-packages/hoomd/htf/tfmanager.py\", line 128, in __init__\n",
      "    self._prepare_graph()\n",
      "  File \"/site-packages/hoomd/htf/tfmanager.py\", line 414, in _prepare_graph\n",
      "    import_scope='')\n",
      "  File \"/site-packages/tensorflow_core/python/training/saver.py\", line 1453, in import_meta_graph\n",
      "    **kwargs)[0]\n",
      "  File \"/site-packages/tensorflow_core/python/training/saver.py\", line 1477, in _import_meta_graph_with_return_elements\n",
      "    **kwargs))\n",
      "  File \"/site-packages/tensorflow_core/python/framework/meta_graph.py\", line 809, in import_scoped_meta_graph_with_return_elements\n",
      "    return_elements=return_elements)\n",
      "  File \"/site-packages/tensorflow_core/python/util/deprecation.py\", line 507, in new_func\n",
      "    return func(*args, **kwargs)\n",
      "  File \"/site-packages/tensorflow_core/python/framework/importer.py\", line 405, in import_graph_def\n",
      "    producer_op_list=producer_op_list)\n",
      "  File \"/site-packages/tensorflow_core/python/framework/importer.py\", line 517, in _import_graph_def_internal\n",
      "    _ProcessNewOps(graph)\n",
      "  File \"/site-packages/tensorflow_core/python/framework/importer.py\", line 243, in _ProcessNewOps\n",
      "    for new_op in graph._add_new_tf_operations(compute_devices=False):  # pylint: disable=protected-access\n",
      "  File \"/site-packages/tensorflow_core/python/framework/ops.py\", line 3561, in _add_new_tf_operations\n",
      "    for c_op in c_api_util.new_tf_operations(self)\n",
      "  File \"/site-packages/tensorflow_core/python/framework/ops.py\", line 3561, in <listcomp>\n",
      "    for c_op in c_api_util.new_tf_operations(self)\n",
      "  File \"/site-packages/tensorflow_core/python/framework/ops.py\", line 3451, in _create_op_from_tf_operation\n",
      "    ret = Operation(c_op, self)\n",
      "  File \"/site-packages/tensorflow_core/python/framework/ops.py\", line 1748, in __init__\n",
      "    self._traceback = tf_stack.extract_stack()\n",
      "\n",
      "\n"
     ]
    }
   ],
   "source": [
    "graph = htf.graph_builder(0)\n",
    "box = graph.box\n",
    "graph.save('my_model', box)\n",
    "a=hoomd.context.initialize('--mode=cpu')\n",
    "with htf.tfcompute('my_model') as tfcompute:\n",
    "    system = hoomd.init.create_lattice(unitcell=hoomd.lattice.sq(a=4.0),\n",
    "                                    n=[3,3])\n",
    "    nlist = hoomd.md.nlist.cell()\n",
    "    hoomd.md.integrate.mode_standard(dt=0.005)\n",
    "    hoomd.md.integrate.nve(group=hoomd.group.all())\n",
    "    tfcompute.attach(nlist, r_cut=3.0)\n",
    "    hoomd.run(1e3)\n",
    "#tilt_value = [system.box.xy, system.box.xz, system.box.yz]\n"
   ]
  },
  {
   "cell_type": "code",
   "execution_count": 3,
   "metadata": {},
   "outputs": [
    {
     "name": "stdout",
     "output_type": "stream",
     "text": [
      "notice(2): Started TF Session Manager.\n",
      "notice(2): Group \"all\" created containing 9 particles\n",
      "notice(2): Sending exit signal.\n",
      "notice(2): Shutting down TF Manually.\n",
      "notice(2): TF Queue is waiting, sending None\n",
      "Tensor(\"GatherNd:0\", shape=(), dtype=float32)\n",
      "1\n",
      "Tensor(\"GatherNd_1:0\", shape=(), dtype=float32)\n"
     ]
    },
    {
     "name": "stderr",
     "output_type": "stream",
     "text": [
      "Exception in thread Thread-4:\n",
      "Traceback (most recent call last):\n",
      "  File \"/home/mgholiza/.conda/envs/hoomd-tf/lib/python3.7/threading.py\", line 926, in _bootstrap_inner\n",
      "    self.run()\n",
      "  File \"/home/mgholiza/.conda/envs/hoomd-tf/lib/python3.7/threading.py\", line 870, in run\n",
      "    self._target(*self._args, **self._kwargs)\n",
      "  File \"/home/mgholiza/.conda/envs/hoomd-tf/lib/python3.7/site-packages/hoomd/htf/tfmanager.py\", line 21, in main\n",
      "    write_tensorboard=write_tensorboard, **tfm_args)\n",
      "TypeError: type object argument after ** must be a mapping, not NoneType\n",
      "\n"
     ]
    },
    {
     "ename": "Exception",
     "evalue": "Simulation box is tilted in x axis. Current version of Hoomd-tf cannot handle skewed boxes.",
     "output_type": "error",
     "traceback": [
      "\u001b[0;31m---------------------------------------------------------------------------\u001b[0m",
      "\u001b[0;31mException\u001b[0m                                 Traceback (most recent call last)",
      "\u001b[0;32m<ipython-input-3-afd919e702aa>\u001b[0m in \u001b[0;36m<module>\u001b[0;34m\u001b[0m\n\u001b[1;32m      3\u001b[0m                                     n=[3,3])\n\u001b[1;32m      4\u001b[0m \u001b[0;34m\u001b[0m\u001b[0m\n\u001b[0;32m----> 5\u001b[0;31m \u001b[0mgraph\u001b[0m\u001b[0;34m.\u001b[0m\u001b[0mwrap_vector\u001b[0m\u001b[0;34m(\u001b[0m\u001b[0;36m10\u001b[0m\u001b[0;34m)\u001b[0m\u001b[0;34m\u001b[0m\u001b[0;34m\u001b[0m\u001b[0m\n\u001b[0m",
      "\u001b[0;32m~/.conda/envs/hoomd-tf/lib/python3.7/site-packages/hoomd/htf/graphbuilder.py\u001b[0m in \u001b[0;36mwrap_vector\u001b[0;34m(self, r)\u001b[0m\n\u001b[1;32m    196\u001b[0m                     \u001b[0;32mif\u001b[0m \u001b[0mtilt_value\u001b[0m \u001b[0;34m!=\u001b[0m \u001b[0;36m0\u001b[0m\u001b[0;34m:\u001b[0m\u001b[0;34m\u001b[0m\u001b[0;34m\u001b[0m\u001b[0m\n\u001b[1;32m    197\u001b[0m                         raise Exception(\n\u001b[0;32m--> 198\u001b[0;31m                             'Simulation box is tilted in {}. Current version of Hoomd-tf cannot handle skewed boxes.'.format(tilted_axis[i]))\n\u001b[0m\u001b[1;32m    199\u001b[0m             \u001b[0;32mreturn\u001b[0m \u001b[0mr\u001b[0m \u001b[0;34m-\u001b[0m \u001b[0mtf\u001b[0m\u001b[0;34m.\u001b[0m\u001b[0mmath\u001b[0m\u001b[0;34m.\u001b[0m\u001b[0mround\u001b[0m\u001b[0;34m(\u001b[0m\u001b[0mr\u001b[0m \u001b[0;34m/\u001b[0m \u001b[0mself\u001b[0m\u001b[0;34m.\u001b[0m\u001b[0mbox_size\u001b[0m\u001b[0;34m)\u001b[0m \u001b[0;34m*\u001b[0m \u001b[0mself\u001b[0m\u001b[0;34m.\u001b[0m\u001b[0mbox_size\u001b[0m\u001b[0;34m\u001b[0m\u001b[0;34m\u001b[0m\u001b[0m\n\u001b[1;32m    200\u001b[0m \u001b[0;34m\u001b[0m\u001b[0m\n",
      "\u001b[0;31mException\u001b[0m: Simulation box is tilted in x axis. Current version of Hoomd-tf cannot handle skewed boxes."
     ]
    }
   ],
   "source": [
    "\n",
    "\n",
    "graph.wrap_vector(10)\n"
   ]
  },
  {
   "cell_type": "code",
   "execution_count": 3,
   "metadata": {},
   "outputs": [
    {
     "name": "stdout",
     "output_type": "stream",
     "text": [
      "Tensor(\"GatherNd:0\", shape=(), dtype=float32)\n",
      "Tensor(\"GatherNd_1:0\", shape=(), dtype=float32)\n"
     ]
    },
    {
     "ename": "Exception",
     "evalue": "Simulation box is tilted in x axis. Current version of Hoomd-tf cannot handle skewed boxes.",
     "output_type": "error",
     "traceback": [
      "\u001b[0;31m---------------------------------------------------------------------------\u001b[0m",
      "\u001b[0;31mException\u001b[0m                                 Traceback (most recent call last)",
      "\u001b[0;32m<ipython-input-3-88ca3e9d0f02>\u001b[0m in \u001b[0;36m<module>\u001b[0;34m\u001b[0m\n\u001b[0;32m----> 1\u001b[0;31m \u001b[0mgraph\u001b[0m\u001b[0;34m.\u001b[0m\u001b[0mwrap_vector\u001b[0m\u001b[0;34m(\u001b[0m\u001b[0;36m10\u001b[0m\u001b[0;34m)\u001b[0m\u001b[0;34m\u001b[0m\u001b[0;34m\u001b[0m\u001b[0m\n\u001b[0m\u001b[1;32m      2\u001b[0m \u001b[0mb\u001b[0m\u001b[0;34m=\u001b[0m\u001b[0msystem\u001b[0m\u001b[0;34m.\u001b[0m\u001b[0mbox\u001b[0m\u001b[0;34m\u001b[0m\u001b[0;34m\u001b[0m\u001b[0m\n\u001b[1;32m      3\u001b[0m \u001b[0mprint\u001b[0m \u001b[0;34m(\u001b[0m\u001b[0mb\u001b[0m\u001b[0;34m.\u001b[0m\u001b[0mxy\u001b[0m\u001b[0;34m)\u001b[0m\u001b[0;34m\u001b[0m\u001b[0;34m\u001b[0m\u001b[0m\n\u001b[1;32m      4\u001b[0m \u001b[0msystem\u001b[0m\u001b[0;34m.\u001b[0m\u001b[0mbox\u001b[0m\u001b[0;34m.\u001b[0m\u001b[0mxz\u001b[0m \u001b[0;34m=\u001b[0m \u001b[0;36m1\u001b[0m\u001b[0;34m\u001b[0m\u001b[0;34m\u001b[0m\u001b[0m\n\u001b[1;32m      5\u001b[0m \u001b[0;31m#print (system.box)\u001b[0m\u001b[0;34m\u001b[0m\u001b[0;34m\u001b[0m\u001b[0;34m\u001b[0m\u001b[0m\n",
      "\u001b[0;32m~/.conda/envs/hoomd-tf/lib/python3.7/site-packages/hoomd/htf/graphbuilder.py\u001b[0m in \u001b[0;36mwrap_vector\u001b[0;34m(self, r)\u001b[0m\n\u001b[1;32m    195\u001b[0m                     \u001b[0;32mif\u001b[0m \u001b[0mtilt_value\u001b[0m \u001b[0;34m!=\u001b[0m \u001b[0;36m0\u001b[0m\u001b[0;34m:\u001b[0m\u001b[0;34m\u001b[0m\u001b[0;34m\u001b[0m\u001b[0m\n\u001b[1;32m    196\u001b[0m                         raise Exception(\n\u001b[0;32m--> 197\u001b[0;31m                             'Simulation box is tilted in {}. Current version of Hoomd-tf cannot handle skewed boxes.'.format(tilted_axis[i]))\n\u001b[0m\u001b[1;32m    198\u001b[0m             \u001b[0;32mreturn\u001b[0m \u001b[0mr\u001b[0m \u001b[0;34m-\u001b[0m \u001b[0mtf\u001b[0m\u001b[0;34m.\u001b[0m\u001b[0mmath\u001b[0m\u001b[0;34m.\u001b[0m\u001b[0mround\u001b[0m\u001b[0;34m(\u001b[0m\u001b[0mr\u001b[0m \u001b[0;34m/\u001b[0m \u001b[0mself\u001b[0m\u001b[0;34m.\u001b[0m\u001b[0mbox_size\u001b[0m\u001b[0;34m)\u001b[0m \u001b[0;34m*\u001b[0m \u001b[0mself\u001b[0m\u001b[0;34m.\u001b[0m\u001b[0mbox_size\u001b[0m\u001b[0;34m\u001b[0m\u001b[0;34m\u001b[0m\u001b[0m\n\u001b[1;32m    199\u001b[0m \u001b[0;34m\u001b[0m\u001b[0m\n",
      "\u001b[0;31mException\u001b[0m: Simulation box is tilted in x axis. Current version of Hoomd-tf cannot handle skewed boxes."
     ]
    }
   ],
   "source": [
    "\n",
    "b=system.box\n",
    "print (b.xy)\n",
    "system.box.xz = 1\n",
    "#print (system.box)\n",
    "graph.wrap_vector(10)"
   ]
  },
  {
   "cell_type": "code",
   "execution_count": null,
   "metadata": {},
   "outputs": [],
   "source": []
  },
  {
   "cell_type": "markdown",
   "metadata": {},
   "source": []
  }
 ],
 "metadata": {
  "kernelspec": {
   "display_name": "Python (hoomt-tf)",
   "language": "python",
   "name": "hoomd-tf"
  },
  "language_info": {
   "codemirror_mode": {
    "name": "ipython",
    "version": 3
   },
   "file_extension": ".py",
   "mimetype": "text/x-python",
   "name": "python",
   "nbconvert_exporter": "python",
   "pygments_lexer": "ipython3",
   "version": "3.7.6"
  }
 },
 "nbformat": 4,
 "nbformat_minor": 4
}

{
 "cells": [
  {
   "cell_type": "markdown",
   "metadata": {},
   "source": [
    "# 08. Molecules CG Mapping \n",
    "\n",
    "In this tutorial, we show how to generate a CG mapping matrix for a molecule given a bead distribution."
   ]
  },
  {
   "cell_type": "code",
   "execution_count": 1,
   "metadata": {},
   "outputs": [],
   "source": [
    "import hoomd, hoomd.htf as htf, hoomd.md\n",
    "import numpy as np"
   ]
  },
  {
   "cell_type": "code",
   "execution_count": 2,
   "metadata": {
    "scrolled": true
   },
   "outputs": [],
   "source": [
    "TPR = '/scratch/awhite38_lab/ff/OPLS/pure_water/non_bonded_traj/nvt_prod_outforce.tpr'\n",
    "tpr = mda.Universe(TPR)\n",
    "TRAJECTORY = '/scratch/awhite38_lab/ff/OPLS/pure_water/non_bonded_traj/traj.trr'\n",
    "u = mda.Universe(TPR, TRAJECTORY)\n",
    "protein_FF = u.select_atoms(\"resname PHE and resid 0:1\")\n",
    "Beads_dict = {'Bead_1':['N','H1','H2','H3'],\n",
    "             'Bead_2':['CA','HA','CB','HB1','HB2'],\n",
    "             'Bead_3':['CG','CD1','HD1','CD2','HD2','CE1','HE1','CE2','HE2','CZ','HZ'],\n",
    "             'Bead_4':['C','O'],\n",
    "             'Bead_5':['N','H'],\n",
    "             'Bead_6':['CA','HA','CB','HB1','HB2'],\n",
    "             'Bead_7':['CG','CD1','HD1','CD2','HD2','CE1','HE1','CE2','HE2','CZ','HZ'],\n",
    "             'Bead_8':['C','O1','O2']}\n",
    "mapping = Mapping_generator(protein_FF,Beads_dict)\n",
    "print (mapping)"
   ]
  }
 ],
 "metadata": {
  "kernelspec": {
   "display_name": "Python 3",
   "language": "python",
   "name": "python3"
  },
  "language_info": {
   "codemirror_mode": {
    "name": "ipython",
    "version": 3
   },
   "file_extension": ".py",
   "mimetype": "text/x-python",
   "name": "python",
   "nbconvert_exporter": "python",
   "pygments_lexer": "ipython3",
   "version": "3.7.6"
  }
 },
 "nbformat": 4,
 "nbformat_minor": 2
}